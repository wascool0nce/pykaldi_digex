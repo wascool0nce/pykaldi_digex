{
 "cells": [
  {
   "cell_type": "markdown",
   "metadata": {},
   "source": [
    "# Распознавание речи с помощью алгоритма nnet3"
   ]
  },
  {
   "cell_type": "code",
   "execution_count": 1,
   "metadata": {},
   "outputs": [],
   "source": [
    "from pathlib import Path\n",
    "import pandas as pd\n",
    "from kaldi.asr import NnetLatticeFasterRecognizer\n",
    "from kaldi.decoder import LatticeFasterDecoderOptions\n",
    "from kaldi.nnet3 import NnetSimpleComputationOptions\n",
    "from kaldi.util.table import SequentialMatrixReader, CompactLatticeWriter"
   ]
  },
  {
   "cell_type": "markdown",
   "metadata": {},
   "source": [
    "## Определение параметров"
   ]
  },
  {
   "cell_type": "code",
   "execution_count": 2,
   "metadata": {},
   "outputs": [],
   "source": [
    "MODEL_DIR = Path('../model')\n",
    "SCP_PATH = 'data/example_segments.scp'\n",
    "S2U_PATH = 'data/spk2utt'\n",
    "TRANS_PATH = 'data/transcriptions'"
   ]
  },
  {
   "cell_type": "code",
   "execution_count": 3,
   "metadata": {},
   "outputs": [],
   "source": [
    "decoder_opts = LatticeFasterDecoderOptions()\n",
    "decoder_opts.beam = 13\n",
    "decoder_opts.max_active = 7000\n",
    "decodable_opts = NnetSimpleComputationOptions()\n",
    "decodable_opts.acoustic_scale = 1.0\n",
    "decodable_opts.frame_subsampling_factor = 3"
   ]
  },
  {
   "cell_type": "markdown",
   "metadata": {},
   "source": [
    "## Определение модели распознавания"
   ]
  },
  {
   "cell_type": "code",
   "execution_count": 4,
   "metadata": {},
   "outputs": [],
   "source": [
    "model = str(MODEL_DIR / 'final.mdl')\n",
    "graph = str(MODEL_DIR / 'HCLG.fst')\n",
    "words = str(MODEL_DIR / 'words.txt')"
   ]
  },
  {
   "cell_type": "code",
   "execution_count": 5,
   "metadata": {},
   "outputs": [],
   "source": [
    "asr = NnetLatticeFasterRecognizer.from_files(model, graph, words,\n",
    "                                             decoder_opts=decoder_opts, \n",
    "                                             decodable_opts=decodable_opts)"
   ]
  },
  {
   "cell_type": "markdown",
   "metadata": {},
   "source": [
    "## Выполнение распознавания"
   ]
  },
  {
   "cell_type": "code",
   "execution_count": 11,
   "metadata": {},
   "outputs": [],
   "source": [
    "feats_rspec = (\"ark:compute-mfcc-feats --config=\" + str(MODEL_DIR / 'conf/mfcc.conf') + \" scp:\" + SCP_PATH + \" ark:- |\")\n",
    "ivectors_rspec = (feats_rspec + \"ivector-extract-online2 \"\n",
    "                \"--config=\" + str(MODEL_DIR / 'conf/ivector_extractor.conf') + \" \"\n",
    "                \"ark:\" + S2U_PATH + \" ark:- ark:- |\")\n",
    "lat_wspec = \"ark:| gzip -c > lat.gz\"   \n",
    "with SequentialMatrixReader(feats_rspec) as feats_reader, \\\n",
    "    SequentialMatrixReader(ivectors_rspec) as ivectors_reader, \\\n",
    "    CompactLatticeWriter(lat_wspec) as lat_writer:\n",
    "    for (fkey, feats), (ikey, ivectors) in zip(feats_reader, ivectors_reader):\n",
    "        assert(fkey == ikey)\n",
    "        out = asr.decode((feats, ivectors))\n",
    "        lat_writer[fkey] = out['lattice']\n",
    "        with open(TRANS_PATH, 'a') as f:\n",
    "            f.write(fkey + '\\t' + out['text'].lower() + '\\n')"
   ]
  },
  {
   "cell_type": "code",
   "execution_count": 12,
   "metadata": {},
   "outputs": [
    {
     "data": {
      "text/html": [
       "<div>\n",
       "<style scoped>\n",
       "    .dataframe tbody tr th:only-of-type {\n",
       "        vertical-align: middle;\n",
       "    }\n",
       "\n",
       "    .dataframe tbody tr th {\n",
       "        vertical-align: top;\n",
       "    }\n",
       "\n",
       "    .dataframe thead th {\n",
       "        text-align: right;\n",
       "    }\n",
       "</style>\n",
       "<table border=\"1\" class=\"dataframe\">\n",
       "  <thead>\n",
       "    <tr style=\"text-align: right;\">\n",
       "      <th></th>\n",
       "      <th>Сегмент</th>\n",
       "      <th>Транскрибация</th>\n",
       "    </tr>\n",
       "  </thead>\n",
       "  <tbody>\n",
       "    <tr>\n",
       "      <th>0</th>\n",
       "      <td>example.0-2-0000746-0000832</td>\n",
       "      <td>пять</td>\n",
       "    </tr>\n",
       "    <tr>\n",
       "      <th>1</th>\n",
       "      <td>example.0-2-0001277-0001377</td>\n",
       "      <td>бом</td>\n",
       "    </tr>\n",
       "    <tr>\n",
       "      <th>2</th>\n",
       "      <td>example.1-2-0000078-0000700</td>\n",
       "      <td>наталья благодарю вас за ожиданьем по данному ...</td>\n",
       "    </tr>\n",
       "    <tr>\n",
       "      <th>3</th>\n",
       "      <td>example.1-2-0000700-0000886</td>\n",
       "      <td>постарайтесь пожалуйста омовением</td>\n",
       "    </tr>\n",
       "    <tr>\n",
       "      <th>4</th>\n",
       "      <td>example.1-2-0000940-0001262</td>\n",
       "      <td>я в свою очередь с вами прощайте всего дом про...</td>\n",
       "    </tr>\n",
       "  </tbody>\n",
       "</table>\n",
       "</div>"
      ],
      "text/plain": [
       "                       Сегмент  \\\n",
       "0  example.0-2-0000746-0000832   \n",
       "1  example.0-2-0001277-0001377   \n",
       "2  example.1-2-0000078-0000700   \n",
       "3  example.1-2-0000700-0000886   \n",
       "4  example.1-2-0000940-0001262   \n",
       "\n",
       "                                       Транскрибация  \n",
       "0                                               пять  \n",
       "1                                                бом  \n",
       "2  наталья благодарю вас за ожиданьем по данному ...  \n",
       "3                  постарайтесь пожалуйста омовением  \n",
       "4  я в свою очередь с вами прощайте всего дом про...  "
      ]
     },
     "execution_count": 12,
     "metadata": {},
     "output_type": "execute_result"
    }
   ],
   "source": [
    "transcriptions = pd.read_csv(TRANS_PATH, header=None, sep='\\t', names=['Сегмент', 'Транскрибация'])\n",
    "transcriptions"
   ]
  }
 ],
 "metadata": {
  "kernelspec": {
   "display_name": "Python 3",
   "language": "python",
   "name": "python3"
  },
  "language_info": {
   "codemirror_mode": {
    "name": "ipython",
    "version": 3
   },
   "file_extension": ".py",
   "mimetype": "text/x-python",
   "name": "python",
   "nbconvert_exporter": "python",
   "pygments_lexer": "ipython3",
   "version": "3.5.2"
  }
 },
 "nbformat": 4,
 "nbformat_minor": 2
}
