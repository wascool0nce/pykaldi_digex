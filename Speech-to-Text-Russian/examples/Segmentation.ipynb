{
 "cells": [
  {
   "cell_type": "markdown",
   "metadata": {},
   "source": [
    "# Сегментация аудио с помощью алгоритма обнаружения активности голоса (VAD)"
   ]
  },
  {
   "cell_type": "code",
   "execution_count": 1,
   "metadata": {},
   "outputs": [],
   "source": [
    "from pathlib import Path\n",
    "import subprocess\n",
    "import pandas as pd\n",
    "from kaldi.segmentation import NnetSAD, SegmentationProcessor\n",
    "from kaldi.nnet3 import NnetSimpleComputationOptions\n",
    "from kaldi.util.table import SequentialMatrixReader"
   ]
  },
  {
   "cell_type": "markdown",
   "metadata": {},
   "source": [
    "## Определение параметров"
   ]
  },
  {
   "cell_type": "code",
   "execution_count": 2,
   "metadata": {},
   "outputs": [],
   "source": [
    "MODEL_DIR = Path('../model')\n",
    "SCP_PATH = 'data/example.scp'\n",
    "SEGMS_PATH = 'data/segments'\n",
    "SCP_SEGMS_PATH = 'data/example_segments.scp'\n",
    "S2U_PATH = 'data/spk2utt'\n",
    "U2S_PATH = 'data/utt2spk'"
   ]
  },
  {
   "cell_type": "code",
   "execution_count": 3,
   "metadata": {},
   "outputs": [],
   "source": [
    "decodable_opts = NnetSimpleComputationOptions()\n",
    "decodable_opts.extra_left_context = 79\n",
    "decodable_opts.extra_right_context = 21\n",
    "decodable_opts.extra_left_context_initial = 0\n",
    "decodable_opts.extra_right_context_final = 0\n",
    "decodable_opts.frames_per_chunk = 150\n",
    "decodable_opts.acoustic_scale = 0.3"
   ]
  },
  {
   "cell_type": "markdown",
   "metadata": {},
   "source": [
    "## Определение модели сегментации"
   ]
  },
  {
   "cell_type": "code",
   "execution_count": 4,
   "metadata": {},
   "outputs": [],
   "source": [
    "model = NnetSAD.read_model(str(MODEL_DIR / 'final.raw'))\n",
    "post = NnetSAD.read_average_posteriors(str(MODEL_DIR / 'conf/post_output.vec'))\n",
    "transform = NnetSAD.make_sad_transform(post)\n",
    "graph = NnetSAD.make_sad_graph()"
   ]
  },
  {
   "cell_type": "code",
   "execution_count": 5,
   "metadata": {},
   "outputs": [],
   "source": [
    "sad = NnetSAD(model, transform, graph, decodable_opts=decodable_opts)\n",
    "seg = SegmentationProcessor([2])"
   ]
  },
  {
   "cell_type": "markdown",
   "metadata": {},
   "source": [
    "## Выполнение сегментации"
   ]
  },
  {
   "cell_type": "code",
   "execution_count": 6,
   "metadata": {},
   "outputs": [],
   "source": [
    "feats_rspec = \"ark:compute-mfcc-feats --verbose=0 --config=\" + str(MODEL_DIR / 'conf/mfcc_hires.conf') + \" scp:\" + SCP_PATH + \" ark:- |\"\n",
    "with SequentialMatrixReader(feats_rspec) as f, open(SEGMS_PATH, 'w') as s:\n",
    "    for i, (key, feats) in enumerate(f):\n",
    "        out = sad.segment(feats)\n",
    "        segs, _ = seg.process(out['alignment'])\n",
    "        seg.write(key, segs, s)"
   ]
  },
  {
   "cell_type": "code",
   "execution_count": 7,
   "metadata": {},
   "outputs": [
    {
     "data": {
      "text/html": [
       "<div>\n",
       "<style scoped>\n",
       "    .dataframe tbody tr th:only-of-type {\n",
       "        vertical-align: middle;\n",
       "    }\n",
       "\n",
       "    .dataframe tbody tr th {\n",
       "        vertical-align: top;\n",
       "    }\n",
       "\n",
       "    .dataframe thead th {\n",
       "        text-align: right;\n",
       "    }\n",
       "</style>\n",
       "<table border=\"1\" class=\"dataframe\">\n",
       "  <thead>\n",
       "    <tr style=\"text-align: right;\">\n",
       "      <th></th>\n",
       "      <th>Фраза</th>\n",
       "      <th>Канал</th>\n",
       "      <th>Начало</th>\n",
       "      <th>Конец</th>\n",
       "    </tr>\n",
       "  </thead>\n",
       "  <tbody>\n",
       "    <tr>\n",
       "      <th>0</th>\n",
       "      <td>example.0-2-0000746-0000832</td>\n",
       "      <td>example.0</td>\n",
       "      <td>7.46</td>\n",
       "      <td>8.32</td>\n",
       "    </tr>\n",
       "    <tr>\n",
       "      <th>1</th>\n",
       "      <td>example.0-2-0001277-0001377</td>\n",
       "      <td>example.0</td>\n",
       "      <td>12.77</td>\n",
       "      <td>13.77</td>\n",
       "    </tr>\n",
       "    <tr>\n",
       "      <th>2</th>\n",
       "      <td>example.1-2-0000078-0000700</td>\n",
       "      <td>example.1</td>\n",
       "      <td>0.78</td>\n",
       "      <td>7.00</td>\n",
       "    </tr>\n",
       "    <tr>\n",
       "      <th>3</th>\n",
       "      <td>example.1-2-0000700-0000886</td>\n",
       "      <td>example.1</td>\n",
       "      <td>7.00</td>\n",
       "      <td>8.86</td>\n",
       "    </tr>\n",
       "    <tr>\n",
       "      <th>4</th>\n",
       "      <td>example.1-2-0000940-0001262</td>\n",
       "      <td>example.1</td>\n",
       "      <td>9.40</td>\n",
       "      <td>12.62</td>\n",
       "    </tr>\n",
       "  </tbody>\n",
       "</table>\n",
       "</div>"
      ],
      "text/plain": [
       "                         Фраза      Канал  Начало  Конец\n",
       "0  example.0-2-0000746-0000832  example.0    7.46   8.32\n",
       "1  example.0-2-0001277-0001377  example.0   12.77  13.77\n",
       "2  example.1-2-0000078-0000700  example.1    0.78   7.00\n",
       "3  example.1-2-0000700-0000886  example.1    7.00   8.86\n",
       "4  example.1-2-0000940-0001262  example.1    9.40  12.62"
      ]
     },
     "execution_count": 7,
     "metadata": {},
     "output_type": "execute_result"
    }
   ],
   "source": [
    "segments = pd.read_csv(SEGMS_PATH, header=None, sep=' ', names=['Фраза', 'Канал', 'Начало', 'Конец'])\n",
    "segments"
   ]
  },
  {
   "cell_type": "markdown",
   "metadata": {},
   "source": [
    "## Извлечение сегментов"
   ]
  },
  {
   "cell_type": "code",
   "execution_count": 8,
   "metadata": {},
   "outputs": [],
   "source": [
    "def make_spk2utt(utt2spk):\n",
    "    \"\"\"\n",
    "    Формирование spk2utt файла\n",
    "    \n",
    "    Аргументы:\n",
    "        utt2spk: путь к файлу сопоставления сегментов и говорящих\n",
    "\n",
    "    Результат:\n",
    "        spk2utt: путь к файлу перечисления сегментов для каждого говорящего\n",
    "    \"\"\"\n",
    "    spk2utt = str(Path(utt2spk).parents[0] / 'spk2utt')\n",
    "    utt2spk_df = pd.read_csv(utt2spk, sep='\\t', header=None, names=['utt_id', 'speaker_id'])\n",
    "    spk2utt_df = utt2spk_df.groupby('speaker_id')['utt_id'].apply(lambda x: ' '.join(x)).reset_index()\n",
    "    spk2utt_df.to_csv(spk2utt, sep='\\t', index=False, header=False)\n",
    "    return spk2utt"
   ]
  },
  {
   "cell_type": "code",
   "execution_count": 9,
   "metadata": {},
   "outputs": [],
   "source": [
    "with open(SEGMS_PATH, 'r') as s, \\\n",
    "    open(SCP_SEGMS_PATH, 'w') as ws, \\\n",
    "    open(U2S_PATH, 'w') as u:\n",
    "    for segment in s:\n",
    "        segment_info = segment.split(' ')\n",
    "        segment_id = segment_info[0]\n",
    "        speaker_id = segment.split(' ')[1].split('.')[-1] or segment_id\n",
    "        ws.write(segment_id + '\\tdata/' + segment_id + '.wav' + '\\n')\n",
    "        u.write(segment_id + '\\tКанал ' + speaker_id + '\\n')\n",
    "make_spk2utt(U2S_PATH)\n",
    "extract_command = \"extract-segments scp:\" + SCP_PATH + \" \" + SEGMS_PATH + \" scp:\" + SCP_SEGMS_PATH\n",
    "with subprocess.Popen(extract_command, shell=True):\n",
    "    pass"
   ]
  },
  {
   "cell_type": "code",
   "execution_count": 10,
   "metadata": {},
   "outputs": [
    {
     "data": {
      "text/html": [
       "<div>\n",
       "<style scoped>\n",
       "    .dataframe tbody tr th:only-of-type {\n",
       "        vertical-align: middle;\n",
       "    }\n",
       "\n",
       "    .dataframe tbody tr th {\n",
       "        vertical-align: top;\n",
       "    }\n",
       "\n",
       "    .dataframe thead th {\n",
       "        text-align: right;\n",
       "    }\n",
       "</style>\n",
       "<table border=\"1\" class=\"dataframe\">\n",
       "  <thead>\n",
       "    <tr style=\"text-align: right;\">\n",
       "      <th></th>\n",
       "      <th>Сегмент</th>\n",
       "      <th>Файл</th>\n",
       "    </tr>\n",
       "  </thead>\n",
       "  <tbody>\n",
       "    <tr>\n",
       "      <th>0</th>\n",
       "      <td>example.0-2-0000746-0000832</td>\n",
       "      <td>data/example.0-2-0000746-0000832.wav</td>\n",
       "    </tr>\n",
       "    <tr>\n",
       "      <th>1</th>\n",
       "      <td>example.0-2-0001277-0001377</td>\n",
       "      <td>data/example.0-2-0001277-0001377.wav</td>\n",
       "    </tr>\n",
       "    <tr>\n",
       "      <th>2</th>\n",
       "      <td>example.1-2-0000078-0000700</td>\n",
       "      <td>data/example.1-2-0000078-0000700.wav</td>\n",
       "    </tr>\n",
       "    <tr>\n",
       "      <th>3</th>\n",
       "      <td>example.1-2-0000700-0000886</td>\n",
       "      <td>data/example.1-2-0000700-0000886.wav</td>\n",
       "    </tr>\n",
       "    <tr>\n",
       "      <th>4</th>\n",
       "      <td>example.1-2-0000940-0001262</td>\n",
       "      <td>data/example.1-2-0000940-0001262.wav</td>\n",
       "    </tr>\n",
       "  </tbody>\n",
       "</table>\n",
       "</div>"
      ],
      "text/plain": [
       "                       Сегмент                                  Файл\n",
       "0  example.0-2-0000746-0000832  data/example.0-2-0000746-0000832.wav\n",
       "1  example.0-2-0001277-0001377  data/example.0-2-0001277-0001377.wav\n",
       "2  example.1-2-0000078-0000700  data/example.1-2-0000078-0000700.wav\n",
       "3  example.1-2-0000700-0000886  data/example.1-2-0000700-0000886.wav\n",
       "4  example.1-2-0000940-0001262  data/example.1-2-0000940-0001262.wav"
      ]
     },
     "execution_count": 10,
     "metadata": {},
     "output_type": "execute_result"
    }
   ],
   "source": [
    "wav_segments = pd.read_csv(SCP_SEGMS_PATH, header=None, sep='\\t', names=['Сегмент', 'Файл'])\n",
    "wav_segments"
   ]
  },
  {
   "cell_type": "code",
   "execution_count": 11,
   "metadata": {},
   "outputs": [
    {
     "data": {
      "text/html": [
       "<div>\n",
       "<style scoped>\n",
       "    .dataframe tbody tr th:only-of-type {\n",
       "        vertical-align: middle;\n",
       "    }\n",
       "\n",
       "    .dataframe tbody tr th {\n",
       "        vertical-align: top;\n",
       "    }\n",
       "\n",
       "    .dataframe thead th {\n",
       "        text-align: right;\n",
       "    }\n",
       "</style>\n",
       "<table border=\"1\" class=\"dataframe\">\n",
       "  <thead>\n",
       "    <tr style=\"text-align: right;\">\n",
       "      <th></th>\n",
       "      <th>Сегмент</th>\n",
       "      <th>Канал</th>\n",
       "    </tr>\n",
       "  </thead>\n",
       "  <tbody>\n",
       "    <tr>\n",
       "      <th>0</th>\n",
       "      <td>example.0-2-0000746-0000832</td>\n",
       "      <td>Канал 0</td>\n",
       "    </tr>\n",
       "    <tr>\n",
       "      <th>1</th>\n",
       "      <td>example.0-2-0001277-0001377</td>\n",
       "      <td>Канал 0</td>\n",
       "    </tr>\n",
       "    <tr>\n",
       "      <th>2</th>\n",
       "      <td>example.1-2-0000078-0000700</td>\n",
       "      <td>Канал 1</td>\n",
       "    </tr>\n",
       "    <tr>\n",
       "      <th>3</th>\n",
       "      <td>example.1-2-0000700-0000886</td>\n",
       "      <td>Канал 1</td>\n",
       "    </tr>\n",
       "    <tr>\n",
       "      <th>4</th>\n",
       "      <td>example.1-2-0000940-0001262</td>\n",
       "      <td>Канал 1</td>\n",
       "    </tr>\n",
       "  </tbody>\n",
       "</table>\n",
       "</div>"
      ],
      "text/plain": [
       "                       Сегмент    Канал\n",
       "0  example.0-2-0000746-0000832  Канал 0\n",
       "1  example.0-2-0001277-0001377  Канал 0\n",
       "2  example.1-2-0000078-0000700  Канал 1\n",
       "3  example.1-2-0000700-0000886  Канал 1\n",
       "4  example.1-2-0000940-0001262  Канал 1"
      ]
     },
     "execution_count": 11,
     "metadata": {},
     "output_type": "execute_result"
    }
   ],
   "source": [
    "utt2spk = pd.read_csv(U2S_PATH, header=None, sep='\\t', names=['Сегмент', 'Канал'])\n",
    "utt2spk"
   ]
  },
  {
   "cell_type": "code",
   "execution_count": 12,
   "metadata": {},
   "outputs": [
    {
     "data": {
      "text/html": [
       "<div>\n",
       "<style scoped>\n",
       "    .dataframe tbody tr th:only-of-type {\n",
       "        vertical-align: middle;\n",
       "    }\n",
       "\n",
       "    .dataframe tbody tr th {\n",
       "        vertical-align: top;\n",
       "    }\n",
       "\n",
       "    .dataframe thead th {\n",
       "        text-align: right;\n",
       "    }\n",
       "</style>\n",
       "<table border=\"1\" class=\"dataframe\">\n",
       "  <thead>\n",
       "    <tr style=\"text-align: right;\">\n",
       "      <th></th>\n",
       "      <th>Канал</th>\n",
       "      <th>Сегменты</th>\n",
       "    </tr>\n",
       "  </thead>\n",
       "  <tbody>\n",
       "    <tr>\n",
       "      <th>0</th>\n",
       "      <td>Канал 0</td>\n",
       "      <td>example.0-2-0000746-0000832 example.0-2-000127...</td>\n",
       "    </tr>\n",
       "    <tr>\n",
       "      <th>1</th>\n",
       "      <td>Канал 1</td>\n",
       "      <td>example.1-2-0000078-0000700 example.1-2-000070...</td>\n",
       "    </tr>\n",
       "  </tbody>\n",
       "</table>\n",
       "</div>"
      ],
      "text/plain": [
       "     Канал                                           Сегменты\n",
       "0  Канал 0  example.0-2-0000746-0000832 example.0-2-000127...\n",
       "1  Канал 1  example.1-2-0000078-0000700 example.1-2-000070..."
      ]
     },
     "execution_count": 12,
     "metadata": {},
     "output_type": "execute_result"
    }
   ],
   "source": [
    "spk2utt = pd.read_csv(S2U_PATH, header=None, sep='\\t', names=['Канал', 'Сегменты'])\n",
    "spk2utt"
   ]
  }
 ],
 "metadata": {
  "kernelspec": {
   "display_name": "Python 3",
   "language": "python",
   "name": "python3"
  },
  "language_info": {
   "codemirror_mode": {
    "name": "ipython",
    "version": 3
   },
   "file_extension": ".py",
   "mimetype": "text/x-python",
   "name": "python",
   "nbconvert_exporter": "python",
   "pygments_lexer": "ipython3",
   "version": "3.5.2"
  }
 },
 "nbformat": 4,
 "nbformat_minor": 2
}
